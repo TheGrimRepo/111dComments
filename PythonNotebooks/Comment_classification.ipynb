{
 "cells": [
  {
   "cell_type": "code",
   "execution_count": 373,
   "metadata": {
    "collapsed": false
   },
   "outputs": [],
   "source": [
    "from __future__ import division\n",
    "import graphlab\n",
    "import math\n",
    "import string\n"
   ]
  },
  {
   "cell_type": "markdown",
   "metadata": {},
   "source": [
    "# Load training data set from .csv format"
   ]
  },
  {
   "cell_type": "code",
   "execution_count": 374,
   "metadata": {
    "collapsed": false,
    "scrolled": true
   },
   "outputs": [
    {
     "data": {
      "text/html": [
       "<pre>Finished parsing file C:\\Users\\CR Analytics\\Comments\\trainingsetloadremovedMan.csv</pre>"
      ],
      "text/plain": [
       "Finished parsing file C:\\Users\\CR Analytics\\Comments\\trainingsetloadremovedMan.csv"
      ]
     },
     "metadata": {},
     "output_type": "display_data"
    },
    {
     "data": {
      "text/html": [
       "<pre>Parsing completed. Parsed 100 lines in 0.035257 secs.</pre>"
      ],
      "text/plain": [
       "Parsing completed. Parsed 100 lines in 0.035257 secs."
      ]
     },
     "metadata": {},
     "output_type": "display_data"
    },
    {
     "name": "stdout",
     "output_type": "stream",
     "text": [
      "------------------------------------------------------\n",
      "Inferred types from first 100 line(s) of file as \n",
      "column_type_hints=[str,str,long]\n",
      "If parsing fails due to incorrect types, you can correct\n",
      "the inferred type list above and pass it to read_csv in\n",
      "the column_type_hints argument\n",
      "------------------------------------------------------\n"
     ]
    },
    {
     "data": {
      "text/html": [
       "<pre>Finished parsing file C:\\Users\\CR Analytics\\Comments\\trainingsetloadremovedMan.csv</pre>"
      ],
      "text/plain": [
       "Finished parsing file C:\\Users\\CR Analytics\\Comments\\trainingsetloadremovedMan.csv"
      ]
     },
     "metadata": {},
     "output_type": "display_data"
    },
    {
     "data": {
      "text/html": [
       "<pre>Parsing completed. Parsed 1500 lines in 0.015624 secs.</pre>"
      ],
      "text/plain": [
       "Parsing completed. Parsed 1500 lines in 0.015624 secs."
      ]
     },
     "metadata": {},
     "output_type": "display_data"
    }
   ],
   "source": [
    "comments = graphlab.SFrame('trainingsetloadremovedMan.csv') #load file\n"
   ]
  },
  {
   "cell_type": "markdown",
   "metadata": {},
   "source": [
    "# Load master comment data file for running model on all comments"
   ]
  },
  {
   "cell_type": "code",
   "execution_count": 375,
   "metadata": {
    "collapsed": false
   },
   "outputs": [
    {
     "data": {
      "text/html": [
       "<pre>Finished parsing file C:\\Users\\CR Analytics\\Comments\\allCommentsSpCleanRemovedManCheck.csv</pre>"
      ],
      "text/plain": [
       "Finished parsing file C:\\Users\\CR Analytics\\Comments\\allCommentsSpCleanRemovedManCheck.csv"
      ]
     },
     "metadata": {},
     "output_type": "display_data"
    },
    {
     "data": {
      "text/html": [
       "<pre>Parsing completed. Parsed 100 lines in 0.12903 secs.</pre>"
      ],
      "text/plain": [
       "Parsing completed. Parsed 100 lines in 0.12903 secs."
      ]
     },
     "metadata": {},
     "output_type": "display_data"
    },
    {
     "name": "stdout",
     "output_type": "stream",
     "text": [
      "------------------------------------------------------\n",
      "Inferred types from first 100 line(s) of file as \n",
      "column_type_hints=[str,str]\n",
      "If parsing fails due to incorrect types, you can correct\n",
      "the inferred type list above and pass it to read_csv in\n",
      "the column_type_hints argument\n",
      "------------------------------------------------------\n"
     ]
    },
    {
     "data": {
      "text/html": [
       "<pre>Finished parsing file C:\\Users\\CR Analytics\\Comments\\allCommentsSpCleanRemovedManCheck.csv</pre>"
      ],
      "text/plain": [
       "Finished parsing file C:\\Users\\CR Analytics\\Comments\\allCommentsSpCleanRemovedManCheck.csv"
      ]
     },
     "metadata": {},
     "output_type": "display_data"
    },
    {
     "data": {
      "text/html": [
       "<pre>Parsing completed. Parsed 29390 lines in 0.144019 secs.</pre>"
      ],
      "text/plain": [
       "Parsing completed. Parsed 29390 lines in 0.144019 secs."
      ]
     },
     "metadata": {},
     "output_type": "display_data"
    },
    {
     "data": {
      "text/html": [
       "<div style=\"max-height:1000px;max-width:1500px;overflow:auto;\"><table frame=\"box\" rules=\"cols\">\n",
       "    <tr>\n",
       "        <th style=\"padding-left: 1em; padding-right: 1em; text-align: center\">documentID</th>\n",
       "        <th style=\"padding-left: 1em; padding-right: 1em; text-align: center\">commentTxt</th>\n",
       "        <th style=\"padding-left: 1em; padding-right: 1em; text-align: center\">word_count</th>\n",
       "    </tr>\n",
       "    <tr>\n",
       "        <td style=\"padding-left: 1em; padding-right: 1em; text-align: center; vertical-align: top\">EPA-HQ-<br>OAR-2013-0602-33086 ...</td>\n",
       "        <td style=\"padding-left: 1em; padding-right: 1em; text-align: center; vertical-align: top\">a p rule testimony change<br>water scarcity response ...</td>\n",
       "        <td style=\"padding-left: 1em; padding-right: 1em; text-align: center; vertical-align: top\">{'atmosphere': 3L,<br>'drastically': 1L, ...</td>\n",
       "    </tr>\n",
       "    <tr>\n",
       "        <td style=\"padding-left: 1em; padding-right: 1em; text-align: center; vertical-align: top\">EPA-HQ-<br>OAR-2013-0602-16767 ...</td>\n",
       "        <td style=\"padding-left: 1em; padding-right: 1em; text-align: center; vertical-align: top\">aaron date support<br>proposal jackson writing ...</td>\n",
       "        <td style=\"padding-left: 1em; padding-right: 1em; text-align: center; vertical-align: top\">{'ounced': 1L, 'cleaner':<br>1L, 'atmosphere': 1L, ...</td>\n",
       "    </tr>\n",
       "    <tr>\n",
       "        <td style=\"padding-left: 1em; padding-right: 1em; text-align: center; vertical-align: top\">EPA-HQ-OAR-2013-0602-4046</td>\n",
       "        <td style=\"padding-left: 1em; padding-right: 1em; text-align: center; vertical-align: top\">aaron light severe danger<br>making planet almost ...</td>\n",
       "        <td style=\"padding-left: 1em; padding-right: 1em; text-align: center; vertical-align: top\">{'point': 1L, 'almost':<br>1L, 'lifetimes': 1L, ...</td>\n",
       "    </tr>\n",
       "    <tr>\n",
       "        <td style=\"padding-left: 1em; padding-right: 1em; text-align: center; vertical-align: top\">EPA-HQ-OAR-2013-0602-2095</td>\n",
       "        <td style=\"padding-left: 1em; padding-right: 1em; text-align: center; vertical-align: top\">aaron please stop hurt<br>help ...</td>\n",
       "        <td style=\"padding-left: 1em; padding-right: 1em; text-align: center; vertical-align: top\">{'please': 1L, 'aaron':<br>1L, 'stop': 1L, 'help': ...</td>\n",
       "    </tr>\n",
       "    <tr>\n",
       "        <td style=\"padding-left: 1em; padding-right: 1em; text-align: center; vertical-align: top\">EPA-HQ-<br>OAR-2013-0602-18878 ...</td>\n",
       "        <td style=\"padding-left: 1em; padding-right: 1em; text-align: center; vertical-align: top\">aaron shaw date employee<br>letter us letter ...</td>\n",
       "        <td style=\"padding-left: 1em; padding-right: 1em; text-align: center; vertical-align: top\">{'associated': 1L,<br>'letter': 2L, 'just': ...</td>\n",
       "    </tr>\n",
       "    <tr>\n",
       "        <td style=\"padding-left: 1em; padding-right: 1em; text-align: center; vertical-align: top\">EPA-HQ-<br>OAR-2013-0602-27166 ...</td>\n",
       "        <td style=\"padding-left: 1em; padding-right: 1em; text-align: center; vertical-align: top\">aaron stalker  oppose<br>proposed greenhouse gas ...</td>\n",
       "        <td style=\"padding-left: 1em; padding-right: 1em; text-align: center; vertical-align: top\">{'disclosure': 1L,<br>'consider': 1L, ...</td>\n",
       "    </tr>\n",
       "    <tr>\n",
       "        <td style=\"padding-left: 1em; padding-right: 1em; text-align: center; vertical-align: top\">EPA-HQ-<br>OAR-2013-0602-13352 ...</td>\n",
       "        <td style=\"padding-left: 1em; padding-right: 1em; text-align: center; vertical-align: top\">aaron strongly support<br>rule scientific conse ...</td>\n",
       "        <td style=\"padding-left: 1em; padding-right: 1em; text-align: center; vertical-align: top\">{'strongly': 1L,<br>'already': 1L, ...</td>\n",
       "    </tr>\n",
       "    <tr>\n",
       "        <td style=\"padding-left: 1em; padding-right: 1em; text-align: center; vertical-align: top\">EPA-HQ-<br>OAR-2013-0602-12866 ...</td>\n",
       "        <td style=\"padding-left: 1em; padding-right: 1em; text-align: center; vertical-align: top\">abbie think proposal<br>limits extremely ...</td>\n",
       "        <td style=\"padding-left: 1em; padding-right: 1em; text-align: center; vertical-align: top\">{'laregulations': 1L,<br>'human': 1L, 'need': 1L, ...</td>\n",
       "    </tr>\n",
       "    <tr>\n",
       "        <td style=\"padding-left: 1em; padding-right: 1em; text-align: center; vertical-align: top\">EPA-HQ-<br>OAR-2013-0602-20743 ...</td>\n",
       "        <td style=\"padding-left: 1em; padding-right: 1em; text-align: center; vertical-align: top\">abbieblomandnet date<br>emission guidelines ...</td>\n",
       "        <td style=\"padding-left: 1em; padding-right: 1em; text-align: center; vertical-align: top\">{'stationary': 2L,<br>'volcanic': 1L, ...</td>\n",
       "    </tr>\n",
       "    <tr>\n",
       "        <td style=\"padding-left: 1em; padding-right: 1em; text-align: center; vertical-align: top\">EPA-HQ-OAR-2013-0602-9961</td>\n",
       "        <td style=\"padding-left: 1em; padding-right: 1em; text-align: center; vertical-align: top\">abby applaud president<br>taking firs step redu ...</td>\n",
       "        <td style=\"padding-left: 1em; padding-right: 1em; text-align: center; vertical-align: top\">{'reliant': 1L,<br>'retrofitting': 1L, ...</td>\n",
       "    </tr>\n",
       "</table>\n",
       "[10 rows x 3 columns]<br/>\n",
       "</div>"
      ],
      "text/plain": [
       "Columns:\n",
       "\tdocumentID\tstr\n",
       "\tcommentTxt\tstr\n",
       "\tword_count\tdict\n",
       "\n",
       "Rows: 10\n",
       "\n",
       "Data:\n",
       "+----------------------------+-------------------------------+\n",
       "|         documentID         |           commentTxt          |\n",
       "+----------------------------+-------------------------------+\n",
       "| EPA-HQ-OAR-2013-0602-33086 | a p rule testimony change ... |\n",
       "| EPA-HQ-OAR-2013-0602-16767 | aaron date support proposa... |\n",
       "| EPA-HQ-OAR-2013-0602-4046  | aaron light severe danger ... |\n",
       "| EPA-HQ-OAR-2013-0602-2095  |  aaron please stop hurt help  |\n",
       "| EPA-HQ-OAR-2013-0602-18878 | aaron shaw date employee l... |\n",
       "| EPA-HQ-OAR-2013-0602-27166 | aaron stalker  oppose prop... |\n",
       "| EPA-HQ-OAR-2013-0602-13352 | aaron strongly support rul... |\n",
       "| EPA-HQ-OAR-2013-0602-12866 | abbie think proposal limit... |\n",
       "| EPA-HQ-OAR-2013-0602-20743 | abbieblomandnet date emiss... |\n",
       "| EPA-HQ-OAR-2013-0602-9961  | abby applaud president tak... |\n",
       "+----------------------------+-------------------------------+\n",
       "+-------------------------------+\n",
       "|           word_count          |\n",
       "+-------------------------------+\n",
       "| {'atmosphere': 3L, 'drasti... |\n",
       "| {'ounced': 1L, 'cleaner': ... |\n",
       "| {'point': 1L, 'almost': 1L... |\n",
       "| {'please': 1L, 'aaron': 1L... |\n",
       "| {'associated': 1L, 'letter... |\n",
       "| {'disclosure': 1L, 'consid... |\n",
       "| {'strongly': 1L, 'already'... |\n",
       "| {'laregulations': 1L, 'hum... |\n",
       "| {'stationary': 2L, 'volcan... |\n",
       "| {'reliant': 1L, 'retrofitt... |\n",
       "+-------------------------------+\n",
       "[10 rows x 3 columns]"
      ]
     },
     "execution_count": 375,
     "metadata": {},
     "output_type": "execute_result"
    }
   ],
   "source": [
    "master = graphlab.SFrame('allCommentsSpCleanRemovedManCheck.csv') #load file\n",
    "master['word_count'] = graphlab.text_analytics.count_words(master['commentTxt'])\n",
    "master.head()"
   ]
  },
  {
   "cell_type": "markdown",
   "metadata": {},
   "source": [
    "# Create WordCount Vector "
   ]
  },
  {
   "cell_type": "code",
   "execution_count": 376,
   "metadata": {
    "collapsed": false
   },
   "outputs": [],
   "source": [
    "comments['word_count'] = graphlab.text_analytics.count_words(comments['commentTxt'])\n"
   ]
  },
  {
   "cell_type": "code",
   "execution_count": 377,
   "metadata": {
    "collapsed": false
   },
   "outputs": [
    {
     "data": {
      "text/html": [
       "<div style=\"max-height:1000px;max-width:1500px;overflow:auto;\"><table frame=\"box\" rules=\"cols\">\n",
       "    <tr>\n",
       "        <th style=\"padding-left: 1em; padding-right: 1em; text-align: center\">documentID</th>\n",
       "        <th style=\"padding-left: 1em; padding-right: 1em; text-align: center\">commentTxt</th>\n",
       "        <th style=\"padding-left: 1em; padding-right: 1em; text-align: center\">train_score</th>\n",
       "        <th style=\"padding-left: 1em; padding-right: 1em; text-align: center\">word_count</th>\n",
       "    </tr>\n",
       "    <tr>\n",
       "        <td style=\"padding-left: 1em; padding-right: 1em; text-align: center; vertical-align: top\">EPA-HQ-<br>OAR-2013-0602-32732 ...</td>\n",
       "        <td style=\"padding-left: 1em; padding-right: 1em; text-align: center; vertical-align: top\">enough regulation already<br>made electricity bills ...</td>\n",
       "        <td style=\"padding-left: 1em; padding-right: 1em; text-align: center; vertical-align: top\">-1</td>\n",
       "        <td style=\"padding-left: 1em; padding-right: 1em; text-align: center; vertical-align: top\">{'already': 1L, 'money':<br>1L, 'india': 1L, 'back': ...</td>\n",
       "    </tr>\n",
       "    <tr>\n",
       "        <td style=\"padding-left: 1em; padding-right: 1em; text-align: center; vertical-align: top\">EPA-HQ-<br>OAR-2013-0602-29333 ...</td>\n",
       "        <td style=\"padding-left: 1em; padding-right: 1em; text-align: center; vertical-align: top\">need set limits people<br>dump k air water soil ...</td>\n",
       "        <td style=\"padding-left: 1em; padding-right: 1em; text-align: center; vertical-align: top\">1</td>\n",
       "        <td style=\"padding-left: 1em; padding-right: 1em; text-align: center; vertical-align: top\">{'set': 1L, 'dump': 1L,<br>'people': 1L, 'cuts': ...</td>\n",
       "    </tr>\n",
       "    <tr>\n",
       "        <td style=\"padding-left: 1em; padding-right: 1em; text-align: center; vertical-align: top\">EPA-HQ-<br>OAR-2013-0602-26964 ...</td>\n",
       "        <td style=\"padding-left: 1em; padding-right: 1em; text-align: center; vertical-align: top\">new plans regulate power<br>work family community ...</td>\n",
       "        <td style=\"padding-left: 1em; padding-right: 1em; text-align: center; vertical-align: top\">-1</td>\n",
       "        <td style=\"padding-left: 1em; padding-right: 1em; text-align: center; vertical-align: top\">{'seniors': 1L, 'family':<br>1L, 'please': 1L, ...</td>\n",
       "    </tr>\n",
       "    <tr>\n",
       "        <td style=\"padding-left: 1em; padding-right: 1em; text-align: center; vertical-align: top\">EPA-HQ-<br>OAR-2013-0602-27175 ...</td>\n",
       "        <td style=\"padding-left: 1em; padding-right: 1em; text-align: center; vertical-align: top\">oppose proposed<br>greenhouse gas ...</td>\n",
       "        <td style=\"padding-left: 1em; padding-right: 1em; text-align: center; vertical-align: top\">-1</td>\n",
       "        <td style=\"padding-left: 1em; padding-right: 1em; text-align: center; vertical-align: top\">{'limited': 1L, 'family':<br>1L, 'executive': 1L, ...</td>\n",
       "    </tr>\n",
       "    <tr>\n",
       "        <td style=\"padding-left: 1em; padding-right: 1em; text-align: center; vertical-align: top\">EPA-HQ-<br>OAR-2013-0602-30319 ...</td>\n",
       "        <td style=\"padding-left: 1em; padding-right: 1em; text-align: center; vertical-align: top\">oppose proposed<br>greenhouse gas ...</td>\n",
       "        <td style=\"padding-left: 1em; padding-right: 1em; text-align: center; vertical-align: top\">1</td>\n",
       "        <td style=\"padding-left: 1em; padding-right: 1em; text-align: center; vertical-align: top\">{'family': 1L,<br>'continue': 1L, ...</td>\n",
       "    </tr>\n",
       "    <tr>\n",
       "        <td style=\"padding-left: 1em; padding-right: 1em; text-align: center; vertical-align: top\">EPA-HQ-<br>OAR-2013-0602-28729 ...</td>\n",
       "        <td style=\"padding-left: 1em; padding-right: 1em; text-align: center; vertical-align: top\">oppose proposed<br>greenhouse gas ...</td>\n",
       "        <td style=\"padding-left: 1em; padding-right: 1em; text-align: center; vertical-align: top\">1</td>\n",
       "        <td style=\"padding-left: 1em; padding-right: 1em; text-align: center; vertical-align: top\">{'already': 1L, 'just':<br>1L, 'family': 1L, 'le ...</td>\n",
       "    </tr>\n",
       "    <tr>\n",
       "        <td style=\"padding-left: 1em; padding-right: 1em; text-align: center; vertical-align: top\">EPA-HQ-<br>OAR-2013-0602-29148 ...</td>\n",
       "        <td style=\"padding-left: 1em; padding-right: 1em; text-align: center; vertical-align: top\">oppose proposed<br>greenhouse gas ...</td>\n",
       "        <td style=\"padding-left: 1em; padding-right: 1em; text-align: center; vertical-align: top\">1</td>\n",
       "        <td style=\"padding-left: 1em; padding-right: 1em; text-align: center; vertical-align: top\">{'neighbors': 1L, 'hunt':<br>1L, 'just': 1L, 'fami ...</td>\n",
       "    </tr>\n",
       "    <tr>\n",
       "        <td style=\"padding-left: 1em; padding-right: 1em; text-align: center; vertical-align: top\">EPA-HQ-<br>OAR-2013-0602-29184 ...</td>\n",
       "        <td style=\"padding-left: 1em; padding-right: 1em; text-align: center; vertical-align: top\">oppose proposed<br>greenhouse gas ...</td>\n",
       "        <td style=\"padding-left: 1em; padding-right: 1em; text-align: center; vertical-align: top\">1</td>\n",
       "        <td style=\"padding-left: 1em; padding-right: 1em; text-align: center; vertical-align: top\">{'financial': 1L,<br>'family': 1L, 'lobbyi ...</td>\n",
       "    </tr>\n",
       "    <tr>\n",
       "        <td style=\"padding-left: 1em; padding-right: 1em; text-align: center; vertical-align: top\">EPA-HQ-<br>OAR-2013-0602-30531 ...</td>\n",
       "        <td style=\"padding-left: 1em; padding-right: 1em; text-align: center; vertical-align: top\">oppose proposed<br>greenhouse gas ...</td>\n",
       "        <td style=\"padding-left: 1em; padding-right: 1em; text-align: center; vertical-align: top\">1</td>\n",
       "        <td style=\"padding-left: 1em; padding-right: 1em; text-align: center; vertical-align: top\">{'things': 1L, 'family':<br>1L, 'tired': 1L, ...</td>\n",
       "    </tr>\n",
       "    <tr>\n",
       "        <td style=\"padding-left: 1em; padding-right: 1em; text-align: center; vertical-align: top\">EPA-HQ-<br>OAR-2013-0602-30664 ...</td>\n",
       "        <td style=\"padding-left: 1em; padding-right: 1em; text-align: center; vertical-align: top\">oppose proposed<br>greenhouse gas ...</td>\n",
       "        <td style=\"padding-left: 1em; padding-right: 1em; text-align: center; vertical-align: top\">1</td>\n",
       "        <td style=\"padding-left: 1em; padding-right: 1em; text-align: center; vertical-align: top\">{'retired': 1L, 'help':<br>1L, 'family': 1L, ...</td>\n",
       "    </tr>\n",
       "</table>\n",
       "[10 rows x 4 columns]<br/>\n",
       "</div>"
      ],
      "text/plain": [
       "Columns:\n",
       "\tdocumentID\tstr\n",
       "\tcommentTxt\tstr\n",
       "\ttrain_score\tint\n",
       "\tword_count\tdict\n",
       "\n",
       "Rows: 10\n",
       "\n",
       "Data:\n",
       "+----------------------------+-------------------------------+-------------+\n",
       "|         documentID         |           commentTxt          | train_score |\n",
       "+----------------------------+-------------------------------+-------------+\n",
       "| EPA-HQ-OAR-2013-0602-32732 | enough regulation already ... |      -1     |\n",
       "| EPA-HQ-OAR-2013-0602-29333 | need set limits people dum... |      1      |\n",
       "| EPA-HQ-OAR-2013-0602-26964 | new plans regulate power w... |      -1     |\n",
       "| EPA-HQ-OAR-2013-0602-27175 | oppose proposed greenhouse... |      -1     |\n",
       "| EPA-HQ-OAR-2013-0602-30319 | oppose proposed greenhouse... |      1      |\n",
       "| EPA-HQ-OAR-2013-0602-28729 | oppose proposed greenhouse... |      1      |\n",
       "| EPA-HQ-OAR-2013-0602-29148 | oppose proposed greenhouse... |      1      |\n",
       "| EPA-HQ-OAR-2013-0602-29184 | oppose proposed greenhouse... |      1      |\n",
       "| EPA-HQ-OAR-2013-0602-30531 | oppose proposed greenhouse... |      1      |\n",
       "| EPA-HQ-OAR-2013-0602-30664 | oppose proposed greenhouse... |      1      |\n",
       "+----------------------------+-------------------------------+-------------+\n",
       "+-------------------------------+\n",
       "|           word_count          |\n",
       "+-------------------------------+\n",
       "| {'already': 1L, 'money': 1... |\n",
       "| {'set': 1L, 'dump': 1L, 'p... |\n",
       "| {'seniors': 1L, 'family': ... |\n",
       "| {'limited': 1L, 'family': ... |\n",
       "| {'family': 1L, 'continue':... |\n",
       "| {'already': 1L, 'just': 1L... |\n",
       "| {'neighbors': 1L, 'hunt': ... |\n",
       "| {'financial': 1L, 'family'... |\n",
       "| {'things': 1L, 'family': 1... |\n",
       "| {'retired': 1L, 'help': 1L... |\n",
       "+-------------------------------+\n",
       "[10 rows x 4 columns]"
      ]
     },
     "execution_count": 377,
     "metadata": {},
     "output_type": "execute_result"
    }
   ],
   "source": [
    "comments.head() #inspect top rows of data set with added word_count vector"
   ]
  },
  {
   "cell_type": "code",
   "execution_count": 378,
   "metadata": {
    "collapsed": false
   },
   "outputs": [
    {
     "name": "stdout",
     "output_type": "stream",
     "text": [
      "1231\n",
      "269\n"
     ]
    }
   ],
   "source": [
    "train_data,test_data = comments.random_split(.8, seed=3)\n",
    "\n",
    "print len(train_data)\n",
    "print len(test_data)"
   ]
  },
  {
   "cell_type": "code",
   "execution_count": 379,
   "metadata": {
    "collapsed": false
   },
   "outputs": [
    {
     "data": {
      "text/html": [
       "<pre>WARNING: The number of feature dimensions in this problem is very large in comparison with the number of examples. Unless an appropriate regularization value is set, this model may not provide accurate predictions for a validation/test set.</pre>"
      ],
      "text/plain": [
       "WARNING: The number of feature dimensions in this problem is very large in comparison with the number of examples. Unless an appropriate regularization value is set, this model may not provide accurate predictions for a validation/test set."
      ]
     },
     "metadata": {},
     "output_type": "display_data"
    },
    {
     "data": {
      "text/html": [
       "<pre>Logistic regression:</pre>"
      ],
      "text/plain": [
       "Logistic regression:"
      ]
     },
     "metadata": {},
     "output_type": "display_data"
    },
    {
     "data": {
      "text/html": [
       "<pre>--------------------------------------------------------</pre>"
      ],
      "text/plain": [
       "--------------------------------------------------------"
      ]
     },
     "metadata": {},
     "output_type": "display_data"
    },
    {
     "data": {
      "text/html": [
       "<pre>Number of examples          : 1231</pre>"
      ],
      "text/plain": [
       "Number of examples          : 1231"
      ]
     },
     "metadata": {},
     "output_type": "display_data"
    },
    {
     "data": {
      "text/html": [
       "<pre>Number of classes           : 2</pre>"
      ],
      "text/plain": [
       "Number of classes           : 2"
      ]
     },
     "metadata": {},
     "output_type": "display_data"
    },
    {
     "data": {
      "text/html": [
       "<pre>Number of feature columns   : 1</pre>"
      ],
      "text/plain": [
       "Number of feature columns   : 1"
      ]
     },
     "metadata": {},
     "output_type": "display_data"
    },
    {
     "data": {
      "text/html": [
       "<pre>Number of unpacked features : 7190</pre>"
      ],
      "text/plain": [
       "Number of unpacked features : 7190"
      ]
     },
     "metadata": {},
     "output_type": "display_data"
    },
    {
     "data": {
      "text/html": [
       "<pre>Number of coefficients    : 7191</pre>"
      ],
      "text/plain": [
       "Number of coefficients    : 7191"
      ]
     },
     "metadata": {},
     "output_type": "display_data"
    },
    {
     "data": {
      "text/html": [
       "<pre>Starting L-BFGS</pre>"
      ],
      "text/plain": [
       "Starting L-BFGS"
      ]
     },
     "metadata": {},
     "output_type": "display_data"
    },
    {
     "data": {
      "text/html": [
       "<pre>--------------------------------------------------------</pre>"
      ],
      "text/plain": [
       "--------------------------------------------------------"
      ]
     },
     "metadata": {},
     "output_type": "display_data"
    },
    {
     "data": {
      "text/html": [
       "<pre>+-----------+----------+-----------+--------------+-------------------+---------------------+</pre>"
      ],
      "text/plain": [
       "+-----------+----------+-----------+--------------+-------------------+---------------------+"
      ]
     },
     "metadata": {},
     "output_type": "display_data"
    },
    {
     "data": {
      "text/html": [
       "<pre>| Iteration | Passes   | Step size | Elapsed Time | Training-accuracy | Validation-accuracy |</pre>"
      ],
      "text/plain": [
       "| Iteration | Passes   | Step size | Elapsed Time | Training-accuracy | Validation-accuracy |"
      ]
     },
     "metadata": {},
     "output_type": "display_data"
    },
    {
     "data": {
      "text/html": [
       "<pre>+-----------+----------+-----------+--------------+-------------------+---------------------+</pre>"
      ],
      "text/plain": [
       "+-----------+----------+-----------+--------------+-------------------+---------------------+"
      ]
     },
     "metadata": {},
     "output_type": "display_data"
    },
    {
     "data": {
      "text/html": [
       "<pre>| 1         | 3        | 0.000812  | 0.019998     | 0.948822          | 0.836431            |</pre>"
      ],
      "text/plain": [
       "| 1         | 3        | 0.000812  | 0.019998     | 0.948822          | 0.836431            |"
      ]
     },
     "metadata": {},
     "output_type": "display_data"
    },
    {
     "data": {
      "text/html": [
       "<pre>| 2         | 5        | 1.000000  | 0.039999     | 0.983753          | 0.884758            |</pre>"
      ],
      "text/plain": [
       "| 2         | 5        | 1.000000  | 0.039999     | 0.983753          | 0.884758            |"
      ]
     },
     "metadata": {},
     "output_type": "display_data"
    },
    {
     "data": {
      "text/html": [
       "<pre>| 3         | 6        | 1.000000  | 0.052000     | 0.988627          | 0.884758            |</pre>"
      ],
      "text/plain": [
       "| 3         | 6        | 1.000000  | 0.052000     | 0.988627          | 0.884758            |"
      ]
     },
     "metadata": {},
     "output_type": "display_data"
    },
    {
     "data": {
      "text/html": [
       "<pre>| 4         | 7        | 1.000000  | 0.064001     | 0.994314          | 0.892193            |</pre>"
      ],
      "text/plain": [
       "| 4         | 7        | 1.000000  | 0.064001     | 0.994314          | 0.892193            |"
      ]
     },
     "metadata": {},
     "output_type": "display_data"
    },
    {
     "data": {
      "text/html": [
       "<pre>| 5         | 8        | 1.000000  | 0.081007     | 0.995126          | 0.892193            |</pre>"
      ],
      "text/plain": [
       "| 5         | 8        | 1.000000  | 0.081007     | 0.995126          | 0.892193            |"
      ]
     },
     "metadata": {},
     "output_type": "display_data"
    },
    {
     "data": {
      "text/html": [
       "<pre>| 6         | 9        | 1.000000  | 0.092014     | 0.995938          | 0.895911            |</pre>"
      ],
      "text/plain": [
       "| 6         | 9        | 1.000000  | 0.092014     | 0.995938          | 0.895911            |"
      ]
     },
     "metadata": {},
     "output_type": "display_data"
    },
    {
     "data": {
      "text/html": [
       "<pre>| 11        | 14       | 1.000000  | 0.164020     | 1.000000          | 0.899628            |</pre>"
      ],
      "text/plain": [
       "| 11        | 14       | 1.000000  | 0.164020     | 1.000000          | 0.899628            |"
      ]
     },
     "metadata": {},
     "output_type": "display_data"
    },
    {
     "data": {
      "text/html": [
       "<pre>+-----------+----------+-----------+--------------+-------------------+---------------------+</pre>"
      ],
      "text/plain": [
       "+-----------+----------+-----------+--------------+-------------------+---------------------+"
      ]
     },
     "metadata": {},
     "output_type": "display_data"
    },
    {
     "data": {
      "text/html": [
       "<pre>TERMINATED: Iteration limit reached.</pre>"
      ],
      "text/plain": [
       "TERMINATED: Iteration limit reached."
      ]
     },
     "metadata": {},
     "output_type": "display_data"
    },
    {
     "data": {
      "text/html": [
       "<pre>This model may not be optimal. To improve it, consider increasing `max_iterations`.</pre>"
      ],
      "text/plain": [
       "This model may not be optimal. To improve it, consider increasing `max_iterations`."
      ]
     },
     "metadata": {},
     "output_type": "display_data"
    }
   ],
   "source": [
    "sentiment_model = graphlab.logistic_classifier.create(train_data,\n",
    "                                                      target = 'train_score',\n",
    "                                                      features=['word_count'],\n",
    "                                                      validation_set=test_data,max_iterations=15)"
   ]
  },
  {
   "cell_type": "code",
   "execution_count": 380,
   "metadata": {
    "collapsed": false
   },
   "outputs": [
    {
     "name": "stdout",
     "output_type": "stream",
     "text": [
      "Class                          : LogisticClassifier\n",
      "\n",
      "Schema\n",
      "------\n",
      "Number of coefficients         : 7191\n",
      "Number of examples             : 1231\n",
      "Number of classes              : 2\n",
      "Number of feature columns      : 1\n",
      "Number of unpacked features    : 7190\n",
      "\n",
      "Hyperparameters\n",
      "---------------\n",
      "L1 penalty                     : 0.0\n",
      "L2 penalty                     : 0.01\n",
      "\n",
      "Training Summary\n",
      "----------------\n",
      "Solver                         : lbfgs\n",
      "Solver iterations              : 15\n",
      "Solver status                  : TERMINATED: Iteration limit reached.\n",
      "Training time (sec)            : 0.232\n",
      "\n",
      "Settings\n",
      "--------\n",
      "Log-likelihood                 : 0.5886\n",
      "\n",
      "Highest Positive Coefficients\n",
      "-----------------------------\n",
      "word_count[differences]        : 19.0763\n",
      "word_count[broke]              : 17.9378\n",
      "word_count[fourth]             : 11.3028\n",
      "word_count[hunt]               : 10.8768\n",
      "word_count[marine]             : 10.2263\n",
      "\n",
      "Lowest Negative Coefficients\n",
      "----------------------------\n",
      "word_count[dumb]               : -9.872\n",
      "word_count[mayhem]             : -8.9831\n",
      "word_count[bogus]              : -8.9477\n",
      "word_count[dismantle]          : -8.6742\n",
      "word_count[sham]               : -8.3268\n",
      "\n"
     ]
    }
   ],
   "source": [
    "print sentiment_model"
   ]
  },
  {
   "cell_type": "code",
   "execution_count": 381,
   "metadata": {
    "collapsed": false
   },
   "outputs": [
    {
     "data": {
      "text/plain": [
       "['name', 'index', 'class', 'value', 'stderr']"
      ]
     },
     "execution_count": 381,
     "metadata": {},
     "output_type": "execute_result"
    }
   ],
   "source": [
    "weights = sentiment_model.coefficients\n",
    "weights.column_names()"
   ]
  },
  {
   "cell_type": "code",
   "execution_count": 382,
   "metadata": {
    "collapsed": false
   },
   "outputs": [
    {
     "data": {
      "text/html": [
       "<div style=\"max-height:1000px;max-width:1500px;overflow:auto;\"><table frame=\"box\" rules=\"cols\">\n",
       "    <tr>\n",
       "        <th style=\"padding-left: 1em; padding-right: 1em; text-align: center\">name</th>\n",
       "        <th style=\"padding-left: 1em; padding-right: 1em; text-align: center\">index</th>\n",
       "        <th style=\"padding-left: 1em; padding-right: 1em; text-align: center\">class</th>\n",
       "        <th style=\"padding-left: 1em; padding-right: 1em; text-align: center\">value</th>\n",
       "        <th style=\"padding-left: 1em; padding-right: 1em; text-align: center\">stderr</th>\n",
       "    </tr>\n",
       "    <tr>\n",
       "        <td style=\"padding-left: 1em; padding-right: 1em; text-align: center; vertical-align: top\">(intercept)</td>\n",
       "        <td style=\"padding-left: 1em; padding-right: 1em; text-align: center; vertical-align: top\">None</td>\n",
       "        <td style=\"padding-left: 1em; padding-right: 1em; text-align: center; vertical-align: top\">1</td>\n",
       "        <td style=\"padding-left: 1em; padding-right: 1em; text-align: center; vertical-align: top\">0.536862825909</td>\n",
       "        <td style=\"padding-left: 1em; padding-right: 1em; text-align: center; vertical-align: top\">None</td>\n",
       "    </tr>\n",
       "    <tr>\n",
       "        <td style=\"padding-left: 1em; padding-right: 1em; text-align: center; vertical-align: top\">word_count</td>\n",
       "        <td style=\"padding-left: 1em; padding-right: 1em; text-align: center; vertical-align: top\">get</td>\n",
       "        <td style=\"padding-left: 1em; padding-right: 1em; text-align: center; vertical-align: top\">1</td>\n",
       "        <td style=\"padding-left: 1em; padding-right: 1em; text-align: center; vertical-align: top\">0.267259063293</td>\n",
       "        <td style=\"padding-left: 1em; padding-right: 1em; text-align: center; vertical-align: top\">None</td>\n",
       "    </tr>\n",
       "    <tr>\n",
       "        <td style=\"padding-left: 1em; padding-right: 1em; text-align: center; vertical-align: top\">word_count</td>\n",
       "        <td style=\"padding-left: 1em; padding-right: 1em; text-align: center; vertical-align: top\">china</td>\n",
       "        <td style=\"padding-left: 1em; padding-right: 1em; text-align: center; vertical-align: top\">1</td>\n",
       "        <td style=\"padding-left: 1em; padding-right: 1em; text-align: center; vertical-align: top\">-1.39630576717</td>\n",
       "        <td style=\"padding-left: 1em; padding-right: 1em; text-align: center; vertical-align: top\">None</td>\n",
       "    </tr>\n",
       "    <tr>\n",
       "        <td style=\"padding-left: 1em; padding-right: 1em; text-align: center; vertical-align: top\">word_count</td>\n",
       "        <td style=\"padding-left: 1em; padding-right: 1em; text-align: center; vertical-align: top\">go</td>\n",
       "        <td style=\"padding-left: 1em; padding-right: 1em; text-align: center; vertical-align: top\">1</td>\n",
       "        <td style=\"padding-left: 1em; padding-right: 1em; text-align: center; vertical-align: top\">0.0674144100921</td>\n",
       "        <td style=\"padding-left: 1em; padding-right: 1em; text-align: center; vertical-align: top\">None</td>\n",
       "    </tr>\n",
       "    <tr>\n",
       "        <td style=\"padding-left: 1em; padding-right: 1em; text-align: center; vertical-align: top\">word_count</td>\n",
       "        <td style=\"padding-left: 1em; padding-right: 1em; text-align: center; vertical-align: top\">fight</td>\n",
       "        <td style=\"padding-left: 1em; padding-right: 1em; text-align: center; vertical-align: top\">1</td>\n",
       "        <td style=\"padding-left: 1em; padding-right: 1em; text-align: center; vertical-align: top\">0.488837669166</td>\n",
       "        <td style=\"padding-left: 1em; padding-right: 1em; text-align: center; vertical-align: top\">None</td>\n",
       "    </tr>\n",
       "    <tr>\n",
       "        <td style=\"padding-left: 1em; padding-right: 1em; text-align: center; vertical-align: top\">word_count</td>\n",
       "        <td style=\"padding-left: 1em; padding-right: 1em; text-align: center; vertical-align: top\">constitutional</td>\n",
       "        <td style=\"padding-left: 1em; padding-right: 1em; text-align: center; vertical-align: top\">1</td>\n",
       "        <td style=\"padding-left: 1em; padding-right: 1em; text-align: center; vertical-align: top\">-1.9226732759</td>\n",
       "        <td style=\"padding-left: 1em; padding-right: 1em; text-align: center; vertical-align: top\">None</td>\n",
       "    </tr>\n",
       "    <tr>\n",
       "        <td style=\"padding-left: 1em; padding-right: 1em; text-align: center; vertical-align: top\">word_count</td>\n",
       "        <td style=\"padding-left: 1em; padding-right: 1em; text-align: center; vertical-align: top\">work</td>\n",
       "        <td style=\"padding-left: 1em; padding-right: 1em; text-align: center; vertical-align: top\">1</td>\n",
       "        <td style=\"padding-left: 1em; padding-right: 1em; text-align: center; vertical-align: top\">-0.333080961075</td>\n",
       "        <td style=\"padding-left: 1em; padding-right: 1em; text-align: center; vertical-align: top\">None</td>\n",
       "    </tr>\n",
       "    <tr>\n",
       "        <td style=\"padding-left: 1em; padding-right: 1em; text-align: center; vertical-align: top\">word_count</td>\n",
       "        <td style=\"padding-left: 1em; padding-right: 1em; text-align: center; vertical-align: top\">back</td>\n",
       "        <td style=\"padding-left: 1em; padding-right: 1em; text-align: center; vertical-align: top\">1</td>\n",
       "        <td style=\"padding-left: 1em; padding-right: 1em; text-align: center; vertical-align: top\">0.0390831835408</td>\n",
       "        <td style=\"padding-left: 1em; padding-right: 1em; text-align: center; vertical-align: top\">None</td>\n",
       "    </tr>\n",
       "    <tr>\n",
       "        <td style=\"padding-left: 1em; padding-right: 1em; text-align: center; vertical-align: top\">word_count</td>\n",
       "        <td style=\"padding-left: 1em; padding-right: 1em; text-align: center; vertical-align: top\">sick</td>\n",
       "        <td style=\"padding-left: 1em; padding-right: 1em; text-align: center; vertical-align: top\">1</td>\n",
       "        <td style=\"padding-left: 1em; padding-right: 1em; text-align: center; vertical-align: top\">0.18894630189</td>\n",
       "        <td style=\"padding-left: 1em; padding-right: 1em; text-align: center; vertical-align: top\">None</td>\n",
       "    </tr>\n",
       "    <tr>\n",
       "        <td style=\"padding-left: 1em; padding-right: 1em; text-align: center; vertical-align: top\">word_count</td>\n",
       "        <td style=\"padding-left: 1em; padding-right: 1em; text-align: center; vertical-align: top\">grabbing</td>\n",
       "        <td style=\"padding-left: 1em; padding-right: 1em; text-align: center; vertical-align: top\">1</td>\n",
       "        <td style=\"padding-left: 1em; padding-right: 1em; text-align: center; vertical-align: top\">-0.431502784705</td>\n",
       "        <td style=\"padding-left: 1em; padding-right: 1em; text-align: center; vertical-align: top\">None</td>\n",
       "    </tr>\n",
       "</table>\n",
       "[10 rows x 5 columns]<br/>\n",
       "</div>"
      ],
      "text/plain": [
       "Columns:\n",
       "\tname\tstr\n",
       "\tindex\tstr\n",
       "\tclass\tint\n",
       "\tvalue\tfloat\n",
       "\tstderr\tfloat\n",
       "\n",
       "Rows: 10\n",
       "\n",
       "Data:\n",
       "+-------------+----------------+-------+-----------------+--------+\n",
       "|     name    |     index      | class |      value      | stderr |\n",
       "+-------------+----------------+-------+-----------------+--------+\n",
       "| (intercept) |      None      |   1   |  0.536862825909 |  None  |\n",
       "|  word_count |      get       |   1   |  0.267259063293 |  None  |\n",
       "|  word_count |     china      |   1   |  -1.39630576717 |  None  |\n",
       "|  word_count |       go       |   1   | 0.0674144100921 |  None  |\n",
       "|  word_count |     fight      |   1   |  0.488837669166 |  None  |\n",
       "|  word_count | constitutional |   1   |  -1.9226732759  |  None  |\n",
       "|  word_count |      work      |   1   | -0.333080961075 |  None  |\n",
       "|  word_count |      back      |   1   | 0.0390831835408 |  None  |\n",
       "|  word_count |      sick      |   1   |  0.18894630189  |  None  |\n",
       "|  word_count |    grabbing    |   1   | -0.431502784705 |  None  |\n",
       "+-------------+----------------+-------+-----------------+--------+\n",
       "[10 rows x 5 columns]"
      ]
     },
     "execution_count": 382,
     "metadata": {},
     "output_type": "execute_result"
    }
   ],
   "source": [
    "weights.head()"
   ]
  },
  {
   "cell_type": "code",
   "execution_count": 383,
   "metadata": {
    "collapsed": false
   },
   "outputs": [
    {
     "data": {
      "text/html": [
       "<div style=\"max-height:1000px;max-width:1500px;overflow:auto;\"><table frame=\"box\" rules=\"cols\">\n",
       "    <tr>\n",
       "        <th style=\"padding-left: 1em; padding-right: 1em; text-align: center\">name</th>\n",
       "        <th style=\"padding-left: 1em; padding-right: 1em; text-align: center\">index</th>\n",
       "        <th style=\"padding-left: 1em; padding-right: 1em; text-align: center\">class</th>\n",
       "        <th style=\"padding-left: 1em; padding-right: 1em; text-align: center\">value</th>\n",
       "        <th style=\"padding-left: 1em; padding-right: 1em; text-align: center\">stderr</th>\n",
       "    </tr>\n",
       "    <tr>\n",
       "        <td style=\"padding-left: 1em; padding-right: 1em; text-align: center; vertical-align: top\">word_count</td>\n",
       "        <td style=\"padding-left: 1em; padding-right: 1em; text-align: center; vertical-align: top\">dumb</td>\n",
       "        <td style=\"padding-left: 1em; padding-right: 1em; text-align: center; vertical-align: top\">1</td>\n",
       "        <td style=\"padding-left: 1em; padding-right: 1em; text-align: center; vertical-align: top\">-9.87202451761</td>\n",
       "        <td style=\"padding-left: 1em; padding-right: 1em; text-align: center; vertical-align: top\">None</td>\n",
       "    </tr>\n",
       "    <tr>\n",
       "        <td style=\"padding-left: 1em; padding-right: 1em; text-align: center; vertical-align: top\">word_count</td>\n",
       "        <td style=\"padding-left: 1em; padding-right: 1em; text-align: center; vertical-align: top\">mayhem</td>\n",
       "        <td style=\"padding-left: 1em; padding-right: 1em; text-align: center; vertical-align: top\">1</td>\n",
       "        <td style=\"padding-left: 1em; padding-right: 1em; text-align: center; vertical-align: top\">-8.9830955654</td>\n",
       "        <td style=\"padding-left: 1em; padding-right: 1em; text-align: center; vertical-align: top\">None</td>\n",
       "    </tr>\n",
       "    <tr>\n",
       "        <td style=\"padding-left: 1em; padding-right: 1em; text-align: center; vertical-align: top\">word_count</td>\n",
       "        <td style=\"padding-left: 1em; padding-right: 1em; text-align: center; vertical-align: top\">bogus</td>\n",
       "        <td style=\"padding-left: 1em; padding-right: 1em; text-align: center; vertical-align: top\">1</td>\n",
       "        <td style=\"padding-left: 1em; padding-right: 1em; text-align: center; vertical-align: top\">-8.94774887746</td>\n",
       "        <td style=\"padding-left: 1em; padding-right: 1em; text-align: center; vertical-align: top\">None</td>\n",
       "    </tr>\n",
       "    <tr>\n",
       "        <td style=\"padding-left: 1em; padding-right: 1em; text-align: center; vertical-align: top\">word_count</td>\n",
       "        <td style=\"padding-left: 1em; padding-right: 1em; text-align: center; vertical-align: top\">dismantle</td>\n",
       "        <td style=\"padding-left: 1em; padding-right: 1em; text-align: center; vertical-align: top\">1</td>\n",
       "        <td style=\"padding-left: 1em; padding-right: 1em; text-align: center; vertical-align: top\">-8.67420647272</td>\n",
       "        <td style=\"padding-left: 1em; padding-right: 1em; text-align: center; vertical-align: top\">None</td>\n",
       "    </tr>\n",
       "    <tr>\n",
       "        <td style=\"padding-left: 1em; padding-right: 1em; text-align: center; vertical-align: top\">word_count</td>\n",
       "        <td style=\"padding-left: 1em; padding-right: 1em; text-align: center; vertical-align: top\">sham</td>\n",
       "        <td style=\"padding-left: 1em; padding-right: 1em; text-align: center; vertical-align: top\">1</td>\n",
       "        <td style=\"padding-left: 1em; padding-right: 1em; text-align: center; vertical-align: top\">-8.32681249614</td>\n",
       "        <td style=\"padding-left: 1em; padding-right: 1em; text-align: center; vertical-align: top\">None</td>\n",
       "    </tr>\n",
       "    <tr>\n",
       "        <td style=\"padding-left: 1em; padding-right: 1em; text-align: center; vertical-align: top\">word_count</td>\n",
       "        <td style=\"padding-left: 1em; padding-right: 1em; text-align: center; vertical-align: top\">sharing</td>\n",
       "        <td style=\"padding-left: 1em; padding-right: 1em; text-align: center; vertical-align: top\">1</td>\n",
       "        <td style=\"padding-left: 1em; padding-right: 1em; text-align: center; vertical-align: top\">-7.87885796657</td>\n",
       "        <td style=\"padding-left: 1em; padding-right: 1em; text-align: center; vertical-align: top\">None</td>\n",
       "    </tr>\n",
       "    <tr>\n",
       "        <td style=\"padding-left: 1em; padding-right: 1em; text-align: center; vertical-align: top\">word_count</td>\n",
       "        <td style=\"padding-left: 1em; padding-right: 1em; text-align: center; vertical-align: top\">linking</td>\n",
       "        <td style=\"padding-left: 1em; padding-right: 1em; text-align: center; vertical-align: top\">1</td>\n",
       "        <td style=\"padding-left: 1em; padding-right: 1em; text-align: center; vertical-align: top\">-7.66803507529</td>\n",
       "        <td style=\"padding-left: 1em; padding-right: 1em; text-align: center; vertical-align: top\">None</td>\n",
       "    </tr>\n",
       "    <tr>\n",
       "        <td style=\"padding-left: 1em; padding-right: 1em; text-align: center; vertical-align: top\">word_count</td>\n",
       "        <td style=\"padding-left: 1em; padding-right: 1em; text-align: center; vertical-align: top\">clay</td>\n",
       "        <td style=\"padding-left: 1em; padding-right: 1em; text-align: center; vertical-align: top\">1</td>\n",
       "        <td style=\"padding-left: 1em; padding-right: 1em; text-align: center; vertical-align: top\">-7.42315714081</td>\n",
       "        <td style=\"padding-left: 1em; padding-right: 1em; text-align: center; vertical-align: top\">None</td>\n",
       "    </tr>\n",
       "    <tr>\n",
       "        <td style=\"padding-left: 1em; padding-right: 1em; text-align: center; vertical-align: top\">word_count</td>\n",
       "        <td style=\"padding-left: 1em; padding-right: 1em; text-align: center; vertical-align: top\">fees</td>\n",
       "        <td style=\"padding-left: 1em; padding-right: 1em; text-align: center; vertical-align: top\">1</td>\n",
       "        <td style=\"padding-left: 1em; padding-right: 1em; text-align: center; vertical-align: top\">-7.2571162611</td>\n",
       "        <td style=\"padding-left: 1em; padding-right: 1em; text-align: center; vertical-align: top\">None</td>\n",
       "    </tr>\n",
       "    <tr>\n",
       "        <td style=\"padding-left: 1em; padding-right: 1em; text-align: center; vertical-align: top\">word_count</td>\n",
       "        <td style=\"padding-left: 1em; padding-right: 1em; text-align: center; vertical-align: top\">staticxddgmailcom</td>\n",
       "        <td style=\"padding-left: 1em; padding-right: 1em; text-align: center; vertical-align: top\">1</td>\n",
       "        <td style=\"padding-left: 1em; padding-right: 1em; text-align: center; vertical-align: top\">-7.06259368568</td>\n",
       "        <td style=\"padding-left: 1em; padding-right: 1em; text-align: center; vertical-align: top\">None</td>\n",
       "    </tr>\n",
       "</table>\n",
       "[7191 rows x 5 columns]<br/>Note: Only the head of the SFrame is printed.<br/>You can use print_rows(num_rows=m, num_columns=n) to print more rows and columns.\n",
       "</div>"
      ],
      "text/plain": [
       "Columns:\n",
       "\tname\tstr\n",
       "\tindex\tstr\n",
       "\tclass\tint\n",
       "\tvalue\tfloat\n",
       "\tstderr\tfloat\n",
       "\n",
       "Rows: 7191\n",
       "\n",
       "Data:\n",
       "+------------+-------------------+-------+----------------+--------+\n",
       "|    name    |       index       | class |     value      | stderr |\n",
       "+------------+-------------------+-------+----------------+--------+\n",
       "| word_count |        dumb       |   1   | -9.87202451761 |  None  |\n",
       "| word_count |       mayhem      |   1   | -8.9830955654  |  None  |\n",
       "| word_count |       bogus       |   1   | -8.94774887746 |  None  |\n",
       "| word_count |     dismantle     |   1   | -8.67420647272 |  None  |\n",
       "| word_count |        sham       |   1   | -8.32681249614 |  None  |\n",
       "| word_count |      sharing      |   1   | -7.87885796657 |  None  |\n",
       "| word_count |      linking      |   1   | -7.66803507529 |  None  |\n",
       "| word_count |        clay       |   1   | -7.42315714081 |  None  |\n",
       "| word_count |        fees       |   1   | -7.2571162611  |  None  |\n",
       "| word_count | staticxddgmailcom |   1   | -7.06259368568 |  None  |\n",
       "+------------+-------------------+-------+----------------+--------+\n",
       "[7191 rows x 5 columns]\n",
       "Note: Only the head of the SFrame is printed.\n",
       "You can use print_rows(num_rows=m, num_columns=n) to print more rows and columns."
      ]
     },
     "execution_count": 383,
     "metadata": {},
     "output_type": "execute_result"
    }
   ],
   "source": [
    "weights.sort('value', ascending = True)"
   ]
  },
  {
   "cell_type": "code",
   "execution_count": 384,
   "metadata": {
    "collapsed": false
   },
   "outputs": [],
   "source": [
    "graphlab.canvas.set_target('ipynb')"
   ]
  },
  {
   "cell_type": "code",
   "execution_count": 385,
   "metadata": {
    "collapsed": false
   },
   "outputs": [],
   "source": [
    "test_data['scores'] = sentiment_model.predict(test_data, output_type='margin')\n",
    "test_data['pred_probability']  = sentiment_model.predict(test_data, \n",
    "                                                                output_type='probability')\n",
    "test_data['pred_score']  = test_data['scores'].apply(lambda scores : +1 if\n",
    "                                                                   scores >= 0 else -1)"
   ]
  },
  {
   "cell_type": "code",
   "execution_count": 386,
   "metadata": {
    "collapsed": false
   },
   "outputs": [
    {
     "name": "stdout",
     "output_type": "stream",
     "text": [
      "+----------------------------+-------------------------------+-------------+\n",
      "|         documentID         |           commentTxt          | train_score |\n",
      "+----------------------------+-------------------------------+-------------+\n",
      "| EPA-HQ-OAR-2013-0602-28597 | oppose proposed greenhouse... |      1      |\n",
      "| EPA-HQ-OAR-2013-0602-22417 | standards effort interest ... |      1      |\n",
      "| EPA-HQ-OAR-2013-0602-11749 | action support strong limi... |      1      |\n",
      "| EPA-HQ-OAR-2013-0602-10863 | already setting standard w... |      1      |\n",
      "| EPA-HQ-OAR-2013-0602-14368 | bass saturday e strengthen... |      1      |\n",
      "| EPA-HQ-OAR-2013-0602-34217 | believe federal government... |      1      |\n",
      "| EPA-HQ-OAR-2013-0602-5912  | can dump atmosphere howeve... |      1      |\n",
      "| EPA-HQ-OAR-2013-0602-34074 | children grandchildren nee... |      1      |\n",
      "| EPA-HQ-OAR-2013-0602-14994 |     clean power saddle mi     |      -1     |\n",
      "| EPA-HQ-OAR-2013-0602-28981 | concerned citizen cares cl... |      1      |\n",
      "+----------------------------+-------------------------------+-------------+\n",
      "+-------------------------------+----------------+------------------+------------+\n",
      "|           word_count          |     scores     | pred_probability | pred_score |\n",
      "+-------------------------------+----------------+------------------+------------+\n",
      "| {'proposed': 2L, 'existing... | 7.23969337039  |  0.99928298274   |     1      |\n",
      "| {'leaders': 1L, 'can': 1L,... | 14.4900707728  |  0.99999949062   |     1      |\n",
      "| {'strongly': 1L, 'exceed':... | 13.5240504028  |  0.999998661621  |     1      |\n",
      "| {'already': 1L, 'penalizin... | -2.69876387704 |  0.063046336261  |     -1     |\n",
      "| {'claim': 1L, 'reductions'... | 19.1803588936  |  0.999999995322  |     1      |\n",
      "| {'encouraging': 1L, 'sourc... | 2.75536124918  |  0.940215419895  |     1      |\n",
      "| {'atmosphere': 1L, 'dump':... | 11.4115616889  |  0.999988933331  |     1      |\n",
      "| {'cleaner': 1L, 'san': 1L,... | 11.9031794337  |  0.999993231196  |     1      |\n",
      "| {'mi': 1L, 'clean': 1L, 'p... | 1.24476718186  |  0.776392721061  |     1      |\n",
      "| {'sector': 1L, 'developed'... | 18.8399763492  |  0.999999993425  |     1      |\n",
      "+-------------------------------+----------------+------------------+------------+\n",
      "[269 rows x 7 columns]\n",
      "Note: Only the head of the SFrame is printed.\n",
      "You can use print_rows(num_rows=m, num_columns=n) to print more rows and columns.\n"
     ]
    }
   ],
   "source": [
    "print test_data"
   ]
  },
  {
   "cell_type": "code",
   "execution_count": 387,
   "metadata": {
    "collapsed": false
   },
   "outputs": [
    {
     "name": "stdout",
     "output_type": "stream",
     "text": [
      "Accuracy         : 0.888475836431\n",
      "Confusion Matrix : \n",
      "+--------------+-----------------+-------+\n",
      "| target_label | predicted_label | count |\n",
      "+--------------+-----------------+-------+\n",
      "|      -1      |        -1       |   91  |\n",
      "|      -1      |        1        |   20  |\n",
      "|      1       |        -1       |   10  |\n",
      "|      1       |        1        |  148  |\n",
      "+--------------+-----------------+-------+\n",
      "[4 rows x 3 columns]\n",
      "\n"
     ]
    }
   ],
   "source": [
    "results = sentiment_model.evaluate(test_data)\n",
    "print \"Accuracy         : %s\" % results['accuracy']\n",
    "print \"Confusion Matrix : \\n%s\" % results['confusion_matrix']"
   ]
  },
  {
   "cell_type": "code",
   "execution_count": 388,
   "metadata": {
    "collapsed": false
   },
   "outputs": [
    {
     "name": "stdout",
     "output_type": "stream",
     "text": [
      "765\n",
      "466\n",
      "0.621445978879\n"
     ]
    }
   ],
   "source": [
    "num_positivet  = (train_data['train_score'] == +1).sum()\n",
    "num_negativet = (train_data['train_score'] == -1).sum()\n",
    "percent_fort = num_positivet / (num_positivet + num_negativet)\n",
    "print num_positivet\n",
    "print num_negativet\n",
    "print percent_fort"
   ]
  },
  {
   "cell_type": "code",
   "execution_count": 389,
   "metadata": {
    "collapsed": true
   },
   "outputs": [],
   "source": [
    "master['scores'] = sentiment_model.predict(master, output_type='margin')\n",
    "master['pred_probability']  = sentiment_model.predict(master, output_type='probability')\n",
    "master['pred_score']  = master['scores'].apply(lambda scores : +1 if\n",
    "                                                                   scores >= 0 else -1)"
   ]
  },
  {
   "cell_type": "code",
   "execution_count": 390,
   "metadata": {
    "collapsed": false
   },
   "outputs": [
    {
     "data": {
      "text/html": [
       "<div style=\"max-height:1000px;max-width:1500px;overflow:auto;\"><table frame=\"box\" rules=\"cols\">\n",
       "    <tr>\n",
       "        <th style=\"padding-left: 1em; padding-right: 1em; text-align: center\">documentID</th>\n",
       "        <th style=\"padding-left: 1em; padding-right: 1em; text-align: center\">commentTxt</th>\n",
       "        <th style=\"padding-left: 1em; padding-right: 1em; text-align: center\">word_count</th>\n",
       "        <th style=\"padding-left: 1em; padding-right: 1em; text-align: center\">scores</th>\n",
       "        <th style=\"padding-left: 1em; padding-right: 1em; text-align: center\">pred_probability</th>\n",
       "    </tr>\n",
       "    <tr>\n",
       "        <td style=\"padding-left: 1em; padding-right: 1em; text-align: center; vertical-align: top\">EPA-HQ-<br>OAR-2013-0602-15381 ...</td>\n",
       "        <td style=\"padding-left: 1em; padding-right: 1em; text-align: center; vertical-align: top\">jul federal room avenue b<br>concerned citizen cares ...</td>\n",
       "        <td style=\"padding-left: 1em; padding-right: 1em; text-align: center; vertical-align: top\">{'code': 2L, 'todays':<br>31L, 'global': 22L, ...</td>\n",
       "        <td style=\"padding-left: 1em; padding-right: 1em; text-align: center; vertical-align: top\">471.504748075</td>\n",
       "        <td style=\"padding-left: 1em; padding-right: 1em; text-align: center; vertical-align: top\">1.0</td>\n",
       "    </tr>\n",
       "    <tr>\n",
       "        <td style=\"padding-left: 1em; padding-right: 1em; text-align: center; vertical-align: top\">EPA-HQ-<br>OAR-2013-0602-14521 ...</td>\n",
       "        <td style=\"padding-left: 1em; padding-right: 1em; text-align: center; vertical-align: top\">jul re jefferson federal<br>building room q avenue ...</td>\n",
       "        <td style=\"padding-left: 1em; padding-right: 1em; text-align: center; vertical-align: top\">{'sector': 26L, 'todays':<br>26L, 'finalized': 26L, ...</td>\n",
       "        <td style=\"padding-left: 1em; padding-right: 1em; text-align: center; vertical-align: top\">335.226736345</td>\n",
       "        <td style=\"padding-left: 1em; padding-right: 1em; text-align: center; vertical-align: top\">1.0</td>\n",
       "    </tr>\n",
       "    <tr>\n",
       "        <td style=\"padding-left: 1em; padding-right: 1em; text-align: center; vertical-align: top\">EPA-HQ-<br>OAR-2013-0602-23233 ...</td>\n",
       "        <td style=\"padding-left: 1em; padding-right: 1em; text-align: center; vertical-align: top\">sunday november center t<br>attention id avenue ...</td>\n",
       "        <td style=\"padding-left: 1em; padding-right: 1em; text-align: center; vertical-align: top\">{'limited': 1L, 'todays':<br>1L, 'consider': 3L, ...</td>\n",
       "        <td style=\"padding-left: 1em; padding-right: 1em; text-align: center; vertical-align: top\">240.429672987</td>\n",
       "        <td style=\"padding-left: 1em; padding-right: 1em; text-align: center; vertical-align: top\">1.0</td>\n",
       "    </tr>\n",
       "    <tr>\n",
       "        <td style=\"padding-left: 1em; padding-right: 1em; text-align: center; vertical-align: top\">EPA-HQ-<br>OAR-2013-0602-31685 ...</td>\n",
       "        <td style=\"padding-left: 1em; padding-right: 1em; text-align: center; vertical-align: top\">strongly support effort<br>limit existing power new ...</td>\n",
       "        <td style=\"padding-left: 1em; padding-right: 1em; text-align: center; vertical-align: top\">{'limited': 3L, 'now':<br>33L, 'caused': 19L, ...</td>\n",
       "        <td style=\"padding-left: 1em; padding-right: 1em; text-align: center; vertical-align: top\">221.941343583</td>\n",
       "        <td style=\"padding-left: 1em; padding-right: 1em; text-align: center; vertical-align: top\">1.0</td>\n",
       "    </tr>\n",
       "    <tr>\n",
       "        <td style=\"padding-left: 1em; padding-right: 1em; text-align: center; vertical-align: top\">EPA-HQ-OAR-2013-0602-7661</td>\n",
       "        <td style=\"padding-left: 1em; padding-right: 1em; text-align: center; vertical-align: top\">environmental engineering<br>newsletter july weeks ...</td>\n",
       "        <td style=\"padding-left: 1em; padding-right: 1em; text-align: center; vertical-align: top\">{'limited': 1L,<br>'wetlands': 1L, 'asian': ...</td>\n",
       "        <td style=\"padding-left: 1em; padding-right: 1em; text-align: center; vertical-align: top\">209.336643706</td>\n",
       "        <td style=\"padding-left: 1em; padding-right: 1em; text-align: center; vertical-align: top\">1.0</td>\n",
       "    </tr>\n",
       "    <tr>\n",
       "        <td style=\"padding-left: 1em; padding-right: 1em; text-align: center; vertical-align: top\">EPA-HQ-<br>OAR-2013-0602-17935 ...</td>\n",
       "        <td style=\"padding-left: 1em; padding-right: 1em; text-align: center; vertical-align: top\">brown date id like<br>express strong s u p p o ...</td>\n",
       "        <td style=\"padding-left: 1em; padding-right: 1em; text-align: center; vertical-align: top\">{'sector': 1L, 'reliant':<br>1L, 'heavily': 1L, ...</td>\n",
       "        <td style=\"padding-left: 1em; padding-right: 1em; text-align: center; vertical-align: top\">193.986069724</td>\n",
       "        <td style=\"padding-left: 1em; padding-right: 1em; text-align: center; vertical-align: top\">1.0</td>\n",
       "    </tr>\n",
       "    <tr>\n",
       "        <td style=\"padding-left: 1em; padding-right: 1em; text-align: center; vertical-align: top\">EPA-HQ-<br>OAR-2013-0602-20922 ...</td>\n",
       "        <td style=\"padding-left: 1em; padding-right: 1em; text-align: center; vertical-align: top\">environmental engineering<br>newsletter weeks edition ...</td>\n",
       "        <td style=\"padding-left: 1em; padding-right: 1em; text-align: center; vertical-align: top\">{'writings': 1L,<br>'sidegrees': 1L, ...</td>\n",
       "        <td style=\"padding-left: 1em; padding-right: 1em; text-align: center; vertical-align: top\">146.23634715</td>\n",
       "        <td style=\"padding-left: 1em; padding-right: 1em; text-align: center; vertical-align: top\">1.0</td>\n",
       "    </tr>\n",
       "    <tr>\n",
       "        <td style=\"padding-left: 1em; padding-right: 1em; text-align: center; vertical-align: top\">EPA-HQ-<br>OAR-2013-0602-15883 ...</td>\n",
       "        <td style=\"padding-left: 1em; padding-right: 1em; text-align: center; vertical-align: top\">jul thank proposing new<br>rule reduce existing ...</td>\n",
       "        <td style=\"padding-left: 1em; padding-right: 1em; text-align: center; vertical-align: top\">{'sector': 9L, 'code':<br>1L, 'todays': 8L, ...</td>\n",
       "        <td style=\"padding-left: 1em; padding-right: 1em; text-align: center; vertical-align: top\">134.908778158</td>\n",
       "        <td style=\"padding-left: 1em; padding-right: 1em; text-align: center; vertical-align: top\">1.0</td>\n",
       "    </tr>\n",
       "    <tr>\n",
       "        <td style=\"padding-left: 1em; padding-right: 1em; text-align: center; vertical-align: top\">EPA-HQ-<br>OAR-2013-0602-14530 ...</td>\n",
       "        <td style=\"padding-left: 1em; padding-right: 1em; text-align: center; vertical-align: top\">aug thank proposing new<br>rule reduce existing ...</td>\n",
       "        <td style=\"padding-left: 1em; padding-right: 1em; text-align: center; vertical-align: top\">{'sector': 9L, 'todays':<br>9L, 'finalized': 6L, ...</td>\n",
       "        <td style=\"padding-left: 1em; padding-right: 1em; text-align: center; vertical-align: top\">116.74537738</td>\n",
       "        <td style=\"padding-left: 1em; padding-right: 1em; text-align: center; vertical-align: top\">1.0</td>\n",
       "    </tr>\n",
       "    <tr>\n",
       "        <td style=\"padding-left: 1em; padding-right: 1em; text-align: center; vertical-align: top\">EPA-HQ-<br>OAR-2013-0602-22749 ...</td>\n",
       "        <td style=\"padding-left: 1em; padding-right: 1em; text-align: center; vertical-align: top\">step data fossil sources<br>state alabama alaska ...</td>\n",
       "        <td style=\"padding-left: 1em; padding-right: 1em; text-align: center; vertical-align: top\">{'proposed': 1L,<br>'existing': 33L, ...</td>\n",
       "        <td style=\"padding-left: 1em; padding-right: 1em; text-align: center; vertical-align: top\">111.747169393</td>\n",
       "        <td style=\"padding-left: 1em; padding-right: 1em; text-align: center; vertical-align: top\">1.0</td>\n",
       "    </tr>\n",
       "</table>\n",
       "<table frame=\"box\" rules=\"cols\">\n",
       "    <tr>\n",
       "        <th style=\"padding-left: 1em; padding-right: 1em; text-align: center\">pred_score</th>\n",
       "    </tr>\n",
       "    <tr>\n",
       "        <td style=\"padding-left: 1em; padding-right: 1em; text-align: center; vertical-align: top\">1</td>\n",
       "    </tr>\n",
       "    <tr>\n",
       "        <td style=\"padding-left: 1em; padding-right: 1em; text-align: center; vertical-align: top\">1</td>\n",
       "    </tr>\n",
       "    <tr>\n",
       "        <td style=\"padding-left: 1em; padding-right: 1em; text-align: center; vertical-align: top\">1</td>\n",
       "    </tr>\n",
       "    <tr>\n",
       "        <td style=\"padding-left: 1em; padding-right: 1em; text-align: center; vertical-align: top\">1</td>\n",
       "    </tr>\n",
       "    <tr>\n",
       "        <td style=\"padding-left: 1em; padding-right: 1em; text-align: center; vertical-align: top\">1</td>\n",
       "    </tr>\n",
       "    <tr>\n",
       "        <td style=\"padding-left: 1em; padding-right: 1em; text-align: center; vertical-align: top\">1</td>\n",
       "    </tr>\n",
       "    <tr>\n",
       "        <td style=\"padding-left: 1em; padding-right: 1em; text-align: center; vertical-align: top\">1</td>\n",
       "    </tr>\n",
       "    <tr>\n",
       "        <td style=\"padding-left: 1em; padding-right: 1em; text-align: center; vertical-align: top\">1</td>\n",
       "    </tr>\n",
       "    <tr>\n",
       "        <td style=\"padding-left: 1em; padding-right: 1em; text-align: center; vertical-align: top\">1</td>\n",
       "    </tr>\n",
       "    <tr>\n",
       "        <td style=\"padding-left: 1em; padding-right: 1em; text-align: center; vertical-align: top\">1</td>\n",
       "    </tr>\n",
       "</table>\n",
       "[20 rows x 6 columns]<br/>Note: Only the head of the SFrame is printed.<br/>You can use print_rows(num_rows=m, num_columns=n) to print more rows and columns.\n",
       "</div>"
      ],
      "text/plain": [
       "Columns:\n",
       "\tdocumentID\tstr\n",
       "\tcommentTxt\tstr\n",
       "\tword_count\tdict\n",
       "\tscores\tfloat\n",
       "\tpred_probability\tfloat\n",
       "\tpred_score\tint\n",
       "\n",
       "Rows: 20\n",
       "\n",
       "Data:\n",
       "+----------------------------+-------------------------------+\n",
       "|         documentID         |           commentTxt          |\n",
       "+----------------------------+-------------------------------+\n",
       "| EPA-HQ-OAR-2013-0602-15381 | jul federal room avenue b ... |\n",
       "| EPA-HQ-OAR-2013-0602-14521 | jul re jefferson federal b... |\n",
       "| EPA-HQ-OAR-2013-0602-23233 | sunday november center t a... |\n",
       "| EPA-HQ-OAR-2013-0602-31685 | strongly support effort li... |\n",
       "| EPA-HQ-OAR-2013-0602-7661  | environmental engineering ... |\n",
       "| EPA-HQ-OAR-2013-0602-17935 | brown date id like express... |\n",
       "| EPA-HQ-OAR-2013-0602-20922 | environmental engineering ... |\n",
       "| EPA-HQ-OAR-2013-0602-15883 | jul thank proposing new ru... |\n",
       "| EPA-HQ-OAR-2013-0602-14530 | aug thank proposing new ru... |\n",
       "| EPA-HQ-OAR-2013-0602-22749 | step data fossil sources s... |\n",
       "+----------------------------+-------------------------------+\n",
       "+-------------------------------+---------------+------------------+------------+\n",
       "|           word_count          |     scores    | pred_probability | pred_score |\n",
       "+-------------------------------+---------------+------------------+------------+\n",
       "| {'code': 2L, 'todays': 31L... | 471.504748075 |       1.0        |     1      |\n",
       "| {'sector': 26L, 'todays': ... | 335.226736345 |       1.0        |     1      |\n",
       "| {'limited': 1L, 'todays': ... | 240.429672987 |       1.0        |     1      |\n",
       "| {'limited': 3L, 'now': 33L... | 221.941343583 |       1.0        |     1      |\n",
       "| {'limited': 1L, 'wetlands'... | 209.336643706 |       1.0        |     1      |\n",
       "| {'sector': 1L, 'reliant': ... | 193.986069724 |       1.0        |     1      |\n",
       "| {'writings': 1L, 'sidegree... |  146.23634715 |       1.0        |     1      |\n",
       "| {'sector': 9L, 'code': 1L,... | 134.908778158 |       1.0        |     1      |\n",
       "| {'sector': 9L, 'todays': 9... |  116.74537738 |       1.0        |     1      |\n",
       "| {'proposed': 1L, 'existing... | 111.747169393 |       1.0        |     1      |\n",
       "+-------------------------------+---------------+------------------+------------+\n",
       "[20 rows x 6 columns]\n",
       "Note: Only the head of the SFrame is printed.\n",
       "You can use print_rows(num_rows=m, num_columns=n) to print more rows and columns."
      ]
     },
     "execution_count": 390,
     "metadata": {},
     "output_type": "execute_result"
    }
   ],
   "source": [
    "master.topk('scores', k=20)"
   ]
  },
  {
   "cell_type": "code",
   "execution_count": 391,
   "metadata": {
    "collapsed": false
   },
   "outputs": [
    {
     "data": {
      "text/html": [
       "<div style=\"max-height:1000px;max-width:1500px;overflow:auto;\"><table frame=\"box\" rules=\"cols\">\n",
       "    <tr>\n",
       "        <th style=\"padding-left: 1em; padding-right: 1em; text-align: center\">documentID</th>\n",
       "        <th style=\"padding-left: 1em; padding-right: 1em; text-align: center\">commentTxt</th>\n",
       "        <th style=\"padding-left: 1em; padding-right: 1em; text-align: center\">word_count</th>\n",
       "        <th style=\"padding-left: 1em; padding-right: 1em; text-align: center\">scores</th>\n",
       "    </tr>\n",
       "    <tr>\n",
       "        <td style=\"padding-left: 1em; padding-right: 1em; text-align: center; vertical-align: top\">EPA-HQ-<br>OAR-2013-0602-14451 ...</td>\n",
       "        <td style=\"padding-left: 1em; padding-right: 1em; text-align: center; vertical-align: top\">gut planet help help<br>planet help projected ...</td>\n",
       "        <td style=\"padding-left: 1em; padding-right: 1em; text-align: center; vertical-align: top\">{'planet': 3L, 'gut': 1L,<br>'ok': 419L, 'projected': ...</td>\n",
       "        <td style=\"padding-left: 1em; padding-right: 1em; text-align: center; vertical-align: top\">-2901.96520488</td>\n",
       "    </tr>\n",
       "    <tr>\n",
       "        <td style=\"padding-left: 1em; padding-right: 1em; text-align: center; vertical-align: top\">EPA-HQ-<br>OAR-2013-0602-27977 ...</td>\n",
       "        <td style=\"padding-left: 1em; padding-right: 1em; text-align: center; vertical-align: top\">december vincent h<br>palomino road flagstaff ...</td>\n",
       "        <td style=\"padding-left: 1em; padding-right: 1em; text-align: center; vertical-align: top\">{'limited': 4L, 'code':<br>1L, 'revoke': 3L, ...</td>\n",
       "        <td style=\"padding-left: 1em; padding-right: 1em; text-align: center; vertical-align: top\">-727.171260405</td>\n",
       "    </tr>\n",
       "    <tr>\n",
       "        <td style=\"padding-left: 1em; padding-right: 1em; text-align: center; vertical-align: top\">EPA-HQ-<br>OAR-2013-0602-27978 ...</td>\n",
       "        <td style=\"padding-left: 1em; padding-right: 1em; text-align: center; vertical-align: top\">december vincent h<br>palomino road flagstaff ...</td>\n",
       "        <td style=\"padding-left: 1em; padding-right: 1em; text-align: center; vertical-align: top\">{'limited': 4L, 'code':<br>1L, 'revoke': 3L, ...</td>\n",
       "        <td style=\"padding-left: 1em; padding-right: 1em; text-align: center; vertical-align: top\">-726.696254553</td>\n",
       "    </tr>\n",
       "    <tr>\n",
       "        <td style=\"padding-left: 1em; padding-right: 1em; text-align: center; vertical-align: top\">EPA-HQ-<br>OAR-2013-0602-13795 ...</td>\n",
       "        <td style=\"padding-left: 1em; padding-right: 1em; text-align: center; vertical-align: top\">impact tapr red regional<br>economic models b syn ...</td>\n",
       "        <td style=\"padding-left: 1em; padding-right: 1em; text-align: center; vertical-align: top\">{'aided': 1L, 'limited':<br>1L, 'can': 3L, 'conce ...</td>\n",
       "        <td style=\"padding-left: 1em; padding-right: 1em; text-align: center; vertical-align: top\">-323.323047981</td>\n",
       "    </tr>\n",
       "    <tr>\n",
       "        <td style=\"padding-left: 1em; padding-right: 1em; text-align: center; vertical-align: top\">EPA-HQ-OAR-2013-0602-1295</td>\n",
       "        <td style=\"padding-left: 1em; padding-right: 1em; text-align: center; vertical-align: top\">tim glover now little<br>time please beg care ...</td>\n",
       "        <td style=\"padding-left: 1em; padding-right: 1em; text-align: center; vertical-align: top\">{'code': 2L, 'consider':<br>1L, 'pointing': 1L, ...</td>\n",
       "        <td style=\"padding-left: 1em; padding-right: 1em; text-align: center; vertical-align: top\">-255.075972736</td>\n",
       "    </tr>\n",
       "    <tr>\n",
       "        <td style=\"padding-left: 1em; padding-right: 1em; text-align: center; vertical-align: top\">EPA-HQ-<br>OAR-2013-0602-16178 ...</td>\n",
       "        <td style=\"padding-left: 1em; padding-right: 1em; text-align: center; vertical-align: top\">impact tapr red regional<br>economic models ad ...</td>\n",
       "        <td style=\"padding-left: 1em; padding-right: 1em; text-align: center; vertical-align: top\">{'aided': 1L, 'limited':<br>1L, 'can': 3L, 'conce ...</td>\n",
       "        <td style=\"padding-left: 1em; padding-right: 1em; text-align: center; vertical-align: top\">-218.916662933</td>\n",
       "    </tr>\n",
       "    <tr>\n",
       "        <td style=\"padding-left: 1em; padding-right: 1em; text-align: center; vertical-align: top\">EPA-HQ-OAR-2013-0602-9210</td>\n",
       "        <td style=\"padding-left: 1em; padding-right: 1em; text-align: center; vertical-align: top\">impact tapr red regional<br>economic models ad ...</td>\n",
       "        <td style=\"padding-left: 1em; padding-right: 1em; text-align: center; vertical-align: top\">{'aided': 1L, 'limited':<br>1L, 'can': 3L, 'conce ...</td>\n",
       "        <td style=\"padding-left: 1em; padding-right: 1em; text-align: center; vertical-align: top\">-218.916662933</td>\n",
       "    </tr>\n",
       "    <tr>\n",
       "        <td style=\"padding-left: 1em; padding-right: 1em; text-align: center; vertical-align: top\">EPA-HQ-<br>OAR-2013-0602-13848 ...</td>\n",
       "        <td style=\"padding-left: 1em; padding-right: 1em; text-align: center; vertical-align: top\">impact tapr red regional<br>economic models ad ...</td>\n",
       "        <td style=\"padding-left: 1em; padding-right: 1em; text-align: center; vertical-align: top\">{'aided': 1L, 'limited':<br>1L, 'can': 3L, 'conce ...</td>\n",
       "        <td style=\"padding-left: 1em; padding-right: 1em; text-align: center; vertical-align: top\">-218.916662933</td>\n",
       "    </tr>\n",
       "    <tr>\n",
       "        <td style=\"padding-left: 1em; padding-right: 1em; text-align: center; vertical-align: top\">EPA-HQ-<br>OAR-2013-0602-16132 ...</td>\n",
       "        <td style=\"padding-left: 1em; padding-right: 1em; text-align: center; vertical-align: top\">impact tapr red regional<br>economic models ad ...</td>\n",
       "        <td style=\"padding-left: 1em; padding-right: 1em; text-align: center; vertical-align: top\">{'aided': 1L, 'limited':<br>1L, 'can': 3L, 'conce ...</td>\n",
       "        <td style=\"padding-left: 1em; padding-right: 1em; text-align: center; vertical-align: top\">-218.265037548</td>\n",
       "    </tr>\n",
       "    <tr>\n",
       "        <td style=\"padding-left: 1em; padding-right: 1em; text-align: center; vertical-align: top\">EPA-HQ-<br>OAR-2013-0602-16179 ...</td>\n",
       "        <td style=\"padding-left: 1em; padding-right: 1em; text-align: center; vertical-align: top\">impact tapr red regional<br>economic models ad ...</td>\n",
       "        <td style=\"padding-left: 1em; padding-right: 1em; text-align: center; vertical-align: top\">{'aided': 1L, 'limited':<br>1L, 'can': 3L, 'conce ...</td>\n",
       "        <td style=\"padding-left: 1em; padding-right: 1em; text-align: center; vertical-align: top\">-218.265037548</td>\n",
       "    </tr>\n",
       "</table>\n",
       "<table frame=\"box\" rules=\"cols\">\n",
       "    <tr>\n",
       "        <th style=\"padding-left: 1em; padding-right: 1em; text-align: center\">pred_probability</th>\n",
       "        <th style=\"padding-left: 1em; padding-right: 1em; text-align: center\">pred_score</th>\n",
       "    </tr>\n",
       "    <tr>\n",
       "        <td style=\"padding-left: 1em; padding-right: 1em; text-align: center; vertical-align: top\">0.0</td>\n",
       "        <td style=\"padding-left: 1em; padding-right: 1em; text-align: center; vertical-align: top\">-1</td>\n",
       "    </tr>\n",
       "    <tr>\n",
       "        <td style=\"padding-left: 1em; padding-right: 1em; text-align: center; vertical-align: top\">0.0</td>\n",
       "        <td style=\"padding-left: 1em; padding-right: 1em; text-align: center; vertical-align: top\">-1</td>\n",
       "    </tr>\n",
       "    <tr>\n",
       "        <td style=\"padding-left: 1em; padding-right: 1em; text-align: center; vertical-align: top\">0.0</td>\n",
       "        <td style=\"padding-left: 1em; padding-right: 1em; text-align: center; vertical-align: top\">-1</td>\n",
       "    </tr>\n",
       "    <tr>\n",
       "        <td style=\"padding-left: 1em; padding-right: 1em; text-align: center; vertical-align: top\">3.82458563671e-141</td>\n",
       "        <td style=\"padding-left: 1em; padding-right: 1em; text-align: center; vertical-align: top\">-1</td>\n",
       "    </tr>\n",
       "    <tr>\n",
       "        <td style=\"padding-left: 1em; padding-right: 1em; text-align: center; vertical-align: top\">1.66691162288e-111</td>\n",
       "        <td style=\"padding-left: 1em; padding-right: 1em; text-align: center; vertical-align: top\">-1</td>\n",
       "    </tr>\n",
       "    <tr>\n",
       "        <td style=\"padding-left: 1em; padding-right: 1em; text-align: center; vertical-align: top\">8.4275491019e-96</td>\n",
       "        <td style=\"padding-left: 1em; padding-right: 1em; text-align: center; vertical-align: top\">-1</td>\n",
       "    </tr>\n",
       "    <tr>\n",
       "        <td style=\"padding-left: 1em; padding-right: 1em; text-align: center; vertical-align: top\">8.4275491019e-96</td>\n",
       "        <td style=\"padding-left: 1em; padding-right: 1em; text-align: center; vertical-align: top\">-1</td>\n",
       "    </tr>\n",
       "    <tr>\n",
       "        <td style=\"padding-left: 1em; padding-right: 1em; text-align: center; vertical-align: top\">8.4275491019e-96</td>\n",
       "        <td style=\"padding-left: 1em; padding-right: 1em; text-align: center; vertical-align: top\">-1</td>\n",
       "    </tr>\n",
       "    <tr>\n",
       "        <td style=\"padding-left: 1em; padding-right: 1em; text-align: center; vertical-align: top\">1.61695748239e-95</td>\n",
       "        <td style=\"padding-left: 1em; padding-right: 1em; text-align: center; vertical-align: top\">-1</td>\n",
       "    </tr>\n",
       "    <tr>\n",
       "        <td style=\"padding-left: 1em; padding-right: 1em; text-align: center; vertical-align: top\">1.61695748239e-95</td>\n",
       "        <td style=\"padding-left: 1em; padding-right: 1em; text-align: center; vertical-align: top\">-1</td>\n",
       "    </tr>\n",
       "</table>\n",
       "[20 rows x 6 columns]<br/>Note: Only the head of the SFrame is printed.<br/>You can use print_rows(num_rows=m, num_columns=n) to print more rows and columns.\n",
       "</div>"
      ],
      "text/plain": [
       "Columns:\n",
       "\tdocumentID\tstr\n",
       "\tcommentTxt\tstr\n",
       "\tword_count\tdict\n",
       "\tscores\tfloat\n",
       "\tpred_probability\tfloat\n",
       "\tpred_score\tint\n",
       "\n",
       "Rows: 20\n",
       "\n",
       "Data:\n",
       "+----------------------------+-------------------------------+\n",
       "|         documentID         |           commentTxt          |\n",
       "+----------------------------+-------------------------------+\n",
       "| EPA-HQ-OAR-2013-0602-14451 | gut planet help help plane... |\n",
       "| EPA-HQ-OAR-2013-0602-27977 | december vincent h palomin... |\n",
       "| EPA-HQ-OAR-2013-0602-27978 | december vincent h palomin... |\n",
       "| EPA-HQ-OAR-2013-0602-13795 | impact tapr red regional e... |\n",
       "| EPA-HQ-OAR-2013-0602-1295  | tim glover now little time... |\n",
       "| EPA-HQ-OAR-2013-0602-16178 | impact tapr red regional e... |\n",
       "| EPA-HQ-OAR-2013-0602-9210  | impact tapr red regional e... |\n",
       "| EPA-HQ-OAR-2013-0602-13848 | impact tapr red regional e... |\n",
       "| EPA-HQ-OAR-2013-0602-16132 | impact tapr red regional e... |\n",
       "| EPA-HQ-OAR-2013-0602-16179 | impact tapr red regional e... |\n",
       "+----------------------------+-------------------------------+\n",
       "+-------------------------------+----------------+--------------------+------------+\n",
       "|           word_count          |     scores     |  pred_probability  | pred_score |\n",
       "+-------------------------------+----------------+--------------------+------------+\n",
       "| {'planet': 3L, 'gut': 1L, ... | -2901.96520488 |        0.0         |     -1     |\n",
       "| {'limited': 4L, 'code': 1L... | -727.171260405 |        0.0         |     -1     |\n",
       "| {'limited': 4L, 'code': 1L... | -726.696254553 |        0.0         |     -1     |\n",
       "| {'aided': 1L, 'limited': 1... | -323.323047981 | 3.82458563671e-141 |     -1     |\n",
       "| {'code': 2L, 'consider': 1... | -255.075972736 | 1.66691162288e-111 |     -1     |\n",
       "| {'aided': 1L, 'limited': 1... | -218.916662933 |  8.4275491019e-96  |     -1     |\n",
       "| {'aided': 1L, 'limited': 1... | -218.916662933 |  8.4275491019e-96  |     -1     |\n",
       "| {'aided': 1L, 'limited': 1... | -218.916662933 |  8.4275491019e-96  |     -1     |\n",
       "| {'aided': 1L, 'limited': 1... | -218.265037548 | 1.61695748239e-95  |     -1     |\n",
       "| {'aided': 1L, 'limited': 1... | -218.265037548 | 1.61695748239e-95  |     -1     |\n",
       "+-------------------------------+----------------+--------------------+------------+\n",
       "[20 rows x 6 columns]\n",
       "Note: Only the head of the SFrame is printed.\n",
       "You can use print_rows(num_rows=m, num_columns=n) to print more rows and columns."
      ]
     },
     "execution_count": 391,
     "metadata": {},
     "output_type": "execute_result"
    }
   ],
   "source": [
    "master.topk('scores', k=20, reverse=True)"
   ]
  },
  {
   "cell_type": "code",
   "execution_count": 392,
   "metadata": {
    "collapsed": false,
    "scrolled": true
   },
   "outputs": [
    {
     "name": "stdout",
     "output_type": "stream",
     "text": [
      "19125\n",
      "10265\n",
      "0.650731541341\n"
     ]
    }
   ],
   "source": [
    "num_positive  = (master['pred_score'] == +1).sum()\n",
    "num_negative = (master['pred_score'] == -1).sum()\n",
    "percent_for = num_positive / (num_positive + num_negative)\n",
    "print num_positive\n",
    "print num_negative\n",
    "print percent_for"
   ]
  },
  {
   "cell_type": "code",
   "execution_count": 393,
   "metadata": {
    "collapsed": true
   },
   "outputs": [],
   "source": [
    "master.export_csv('comment_predictions.csv',delimiter=',')"
   ]
  },
  {
   "cell_type": "code",
   "execution_count": 394,
   "metadata": {
    "collapsed": true
   },
   "outputs": [],
   "source": [
    "test_data.export_csv('test_data_diag.csv',delimiter=',')"
   ]
  },
  {
   "cell_type": "code",
   "execution_count": 396,
   "metadata": {
    "collapsed": false
   },
   "outputs": [
    {
     "ename": "RuntimeError",
     "evalue": "Runtime Exception. Column \"word_count2\" has different size than current columns!",
     "output_type": "error",
     "traceback": [
      "\u001b[1;31m---------------------------------------------------------------------------\u001b[0m",
      "\u001b[1;31mRuntimeError\u001b[0m                              Traceback (most recent call last)",
      "\u001b[1;32m<ipython-input-396-be1674da2692>\u001b[0m in \u001b[0;36m<module>\u001b[1;34m()\u001b[0m\n\u001b[1;32m----> 1\u001b[1;33m \u001b[0mtest_data\u001b[0m\u001b[1;33m[\u001b[0m\u001b[1;34m'word_count2'\u001b[0m\u001b[1;33m]\u001b[0m \u001b[1;33m=\u001b[0m \u001b[0mtrain_data\u001b[0m\u001b[1;33m[\u001b[0m\u001b[1;34m'word_count'\u001b[0m\u001b[1;33m]\u001b[0m\u001b[1;33m.\u001b[0m\u001b[0mdict_trim_by_values\u001b[0m\u001b[1;33m(\u001b[0m\u001b[1;36m2\u001b[0m\u001b[1;33m)\u001b[0m\u001b[1;33m\u001b[0m\u001b[0m\n\u001b[0m",
      "\u001b[1;32mC:\\Users\\CR Analytics\\Anaconda2\\envs\\gl-env\\lib\\site-packages\\graphlab\\data_structures\\sframe.pyc\u001b[0m in \u001b[0;36m__setitem__\u001b[1;34m(self, key, value)\u001b[0m\n\u001b[0;32m   4083\u001b[0m             \u001b[1;32mif\u001b[0m \u001b[1;32mnot\u001b[0m \u001b[0mkey\u001b[0m \u001b[1;32min\u001b[0m \u001b[0mself\u001b[0m\u001b[1;33m.\u001b[0m\u001b[0mcolumn_names\u001b[0m\u001b[1;33m(\u001b[0m\u001b[1;33m)\u001b[0m\u001b[1;33m:\u001b[0m\u001b[1;33m\u001b[0m\u001b[0m\n\u001b[0;32m   4084\u001b[0m                 \u001b[1;32mwith\u001b[0m \u001b[0mcython_context\u001b[0m\u001b[1;33m(\u001b[0m\u001b[1;33m)\u001b[0m\u001b[1;33m:\u001b[0m\u001b[1;33m\u001b[0m\u001b[0m\n\u001b[1;32m-> 4085\u001b[1;33m                     \u001b[0mself\u001b[0m\u001b[1;33m.\u001b[0m\u001b[0madd_column\u001b[0m\u001b[1;33m(\u001b[0m\u001b[0msa_value\u001b[0m\u001b[1;33m,\u001b[0m \u001b[0mkey\u001b[0m\u001b[1;33m)\u001b[0m\u001b[1;33m\u001b[0m\u001b[0m\n\u001b[0m\u001b[0;32m   4086\u001b[0m             \u001b[1;32melse\u001b[0m\u001b[1;33m:\u001b[0m\u001b[1;33m\u001b[0m\u001b[0m\n\u001b[0;32m   4087\u001b[0m                 \u001b[1;31m# special case if replacing the only column.\u001b[0m\u001b[1;33m\u001b[0m\u001b[1;33m\u001b[0m\u001b[0m\n",
      "\u001b[1;32mC:\\Users\\CR Analytics\\Anaconda2\\envs\\gl-env\\lib\\site-packages\\graphlab\\cython\\context.pyc\u001b[0m in \u001b[0;36m__exit__\u001b[1;34m(self, exc_type, exc_value, traceback)\u001b[0m\n\u001b[0;32m     47\u001b[0m             \u001b[1;32mif\u001b[0m \u001b[1;32mnot\u001b[0m \u001b[0mself\u001b[0m\u001b[1;33m.\u001b[0m\u001b[0mshow_cython_trace\u001b[0m\u001b[1;33m:\u001b[0m\u001b[1;33m\u001b[0m\u001b[0m\n\u001b[0;32m     48\u001b[0m                 \u001b[1;31m# To hide cython trace, we re-raise from here\u001b[0m\u001b[1;33m\u001b[0m\u001b[1;33m\u001b[0m\u001b[0m\n\u001b[1;32m---> 49\u001b[1;33m                 \u001b[1;32mraise\u001b[0m \u001b[0mexc_type\u001b[0m\u001b[1;33m(\u001b[0m\u001b[0mexc_value\u001b[0m\u001b[1;33m)\u001b[0m\u001b[1;33m\u001b[0m\u001b[0m\n\u001b[0m\u001b[0;32m     50\u001b[0m             \u001b[1;32melse\u001b[0m\u001b[1;33m:\u001b[0m\u001b[1;33m\u001b[0m\u001b[0m\n\u001b[0;32m     51\u001b[0m                 \u001b[1;31m# To show the full trace, we do nothing and let exception propagate\u001b[0m\u001b[1;33m\u001b[0m\u001b[1;33m\u001b[0m\u001b[0m\n",
      "\u001b[1;31mRuntimeError\u001b[0m: Runtime Exception. Column \"word_count2\" has different size than current columns!"
     ]
    }
   ],
   "source": [
    "test_data['word_count2'] = train_data['word_count'].dict_trim_by_values(2)"
   ]
  },
  {
   "cell_type": "code",
   "execution_count": 397,
   "metadata": {
    "collapsed": false
   },
   "outputs": [
    {
     "ename": "NameError",
     "evalue": "name 'bow' is not defined",
     "output_type": "error",
     "traceback": [
      "\u001b[1;31m---------------------------------------------------------------------------\u001b[0m",
      "\u001b[1;31mNameError\u001b[0m                                 Traceback (most recent call last)",
      "\u001b[1;32m<ipython-input-397-dd535903ca75>\u001b[0m in \u001b[0;36m<module>\u001b[1;34m()\u001b[0m\n\u001b[1;32m----> 1\u001b[1;33m \u001b[0mbow\u001b[0m\u001b[1;33m.\u001b[0m\u001b[0mhead\u001b[0m\u001b[1;33m(\u001b[0m\u001b[1;33m)\u001b[0m\u001b[1;33m\u001b[0m\u001b[0m\n\u001b[0m",
      "\u001b[1;31mNameError\u001b[0m: name 'bow' is not defined"
     ]
    }
   ],
   "source": []
  },
  {
   "cell_type": "code",
   "execution_count": 398,
   "metadata": {
    "collapsed": false
   },
   "outputs": [
    {
     "data": {
      "text/plain": [
       "dtype: dict\n",
       "Rows: 10\n",
       "[{'electricity': 2L, 'enough': 2L, 'want': 2L, 'power': 2L}, {'critical': 2L, 'change': 2L, 'limits': 2L}, {'arizona': 2L, 'power': 2L, 'us': 2L, 'social': 2L, 'security': 2L, 'bills': 2L, 'higher': 2L}, {'regulations': 2L, 'economy': 2L, 'power': 3L, 'government': 2L}, {'important': 2L, 'power': 2L, 'economy': 2L}, {'regulations': 2L, 'new': 2L, 'gas': 2L, 'power': 3L, 'economy': 2L}, {'jobs': 2L, 'power': 2L, 'gas': 2L, 'regulations': 3L, 'greenhouse': 2L, 'income': 2L, 'new': 2L, 'economy': 2L}, {'power': 3L, 'proposed': 2L, 'far': 2L, 'influence': 2L, 'regulations': 2L, 'new': 2L, 'economy': 2L}, {'power': 2L, 'regulations': 2L, 'prices': 2L, 'american': 2L, 'need': 2L, 'new': 2L, 'economy': 2L}, {'regulations': 3L, 'new': 2L, 'power': 2L, 'economy': 2L}]"
      ]
     },
     "execution_count": 398,
     "metadata": {},
     "output_type": "execute_result"
    }
   ],
   "source": [
    "docs.head()"
   ]
  },
  {
   "cell_type": "code",
   "execution_count": null,
   "metadata": {
    "collapsed": true
   },
   "outputs": [],
   "source": []
  }
 ],
 "metadata": {
  "kernelspec": {
   "display_name": "Python 2",
   "language": "python",
   "name": "python2"
  },
  "language_info": {
   "codemirror_mode": {
    "name": "ipython",
    "version": 2
   },
   "file_extension": ".py",
   "mimetype": "text/x-python",
   "name": "python",
   "nbconvert_exporter": "python",
   "pygments_lexer": "ipython2",
   "version": "2.7.11"
  }
 },
 "nbformat": 4,
 "nbformat_minor": 0
}
